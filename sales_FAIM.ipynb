{
  "nbformat": 4,
  "nbformat_minor": 0,
  "metadata": {
    "colab": {
      "provenance": [],
      "authorship_tag": "ABX9TyOll/QGDS0P3VVrh50NS9bT",
      "include_colab_link": true
    },
    "kernelspec": {
      "name": "python3",
      "display_name": "Python 3"
    },
    "language_info": {
      "name": "python"
    }
  },
  "cells": [
    {
      "cell_type": "markdown",
      "metadata": {
        "id": "view-in-github",
        "colab_type": "text"
      },
      "source": [
        "<a href=\"https://colab.research.google.com/github/SMP1001/UDJ_SALES/blob/main/sales_FAIM.ipynb\" target=\"_parent\"><img src=\"https://colab.research.google.com/assets/colab-badge.svg\" alt=\"Open In Colab\"/></a>"
      ]
    },
    {
      "cell_type": "code",
      "execution_count": null,
      "metadata": {
        "colab": {
          "base_uri": "https://localhost:8080/"
        },
        "id": "mTwRf1MAtAWZ",
        "outputId": "0343ac9d-803b-40dd-e38c-bce3b384be0d"
      },
      "outputs": [
        {
          "output_type": "stream",
          "name": "stdout",
          "text": [
            "Mounted at /content/drive\n",
            "Covariance Matrix:\n",
            "                   PDI       DEALS        PRICE         R&D        INVEST  \\\n",
            "PDI        5007.733333  -47.243590   322.007718   90.754974    464.026641   \n",
            "DEALS       -47.243590  164.983974     4.440481    0.818397    -79.004583   \n",
            "PRICE       322.007718    4.440481    61.173064   26.939293    -43.018902   \n",
            "R&D          90.754974    0.818397    26.939293   62.094285     81.146364   \n",
            "INVEST      464.026641  -79.004583   -43.018902   81.146364   3786.947049   \n",
            "ADVERTIS    379.742872  -36.716474    56.390449   26.077137    382.116703   \n",
            "EXPENSE    2802.795641  -23.077628   219.417785  125.558642    528.759740   \n",
            "TOTINDAD   -438.389385 -216.641218  -184.383532 -112.628364   -685.195179   \n",
            "SALES     26515.471103   82.282724  1183.479413  168.122081  13388.425610   \n",
            "\n",
            "             ADVERTIS       EXPENSE      TOTINDAD          SALES  \n",
            "PDI        379.742872   2802.795641   -438.389385   26515.471103  \n",
            "DEALS      -36.716474    -23.077628   -216.641218      82.282724  \n",
            "PRICE       56.390449    219.417785   -184.383532    1183.479413  \n",
            "R&D         26.077137    125.558642   -112.628364     168.122081  \n",
            "INVEST     382.116703    528.759740   -685.195179   13388.425610  \n",
            "ADVERTIS   680.552748    164.982873   -572.015497    7102.844818  \n",
            "EXPENSE    164.982873   1929.315142   -196.547322   15047.120284  \n",
            "TOTINDAD  -572.015497   -196.547322  12189.623777  -10210.429028  \n",
            "SALES     7102.844818  15047.120284 -10210.429028  263355.064710  \n"
          ]
        }
      ],
      "source": [
        "# Mount your Google Drive\n",
        "from google.colab import drive\n",
        "drive.mount('/content/drive')\n",
        "\n",
        "# Import necessary libraries\n",
        "import pandas as pd\n",
        "\n",
        "# Define the path to your file (adjust the path if needed)\n",
        "file_path = '/content/drive/My Drive/sales_FAIM.csv'\n",
        "\n",
        "# Load the CSV file into a pandas DataFrame\n",
        "df = pd.read_csv(file_path)\n",
        "\n",
        "# Calculate the covariance matrix\n",
        "cov_matrix = df.cov()\n",
        "\n",
        "# Display the covariance matrix\n",
        "print(\"Covariance Matrix:\")\n",
        "print(cov_matrix)\n"
      ]
    }
  ]
}